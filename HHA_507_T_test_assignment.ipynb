{
  "nbformat": 4,
  "nbformat_minor": 0,
  "metadata": {
    "colab": {
      "name": "HHA 507 T test assignment",
      "provenance": [],
      "collapsed_sections": [],
      "authorship_tag": "ABX9TyOc5j4fpTiAS15wcKOD7w+i",
      "include_colab_link": true
    },
    "kernelspec": {
      "name": "python3",
      "display_name": "Python 3"
    },
    "language_info": {
      "name": "python"
    }
  },
  "cells": [
    {
      "cell_type": "markdown",
      "metadata": {
        "id": "view-in-github",
        "colab_type": "text"
      },
      "source": [
        "<a href=\"https://colab.research.google.com/github/Gtebaldi1/3-T-tests/blob/main/HHA_507_T_test_assignment.ipynb\" target=\"_parent\"><img src=\"https://colab.research.google.com/assets/colab-badge.svg\" alt=\"Open In Colab\"/></a>"
      ]
    },
    {
      "cell_type": "code",
      "metadata": {
        "id": "eWQGkVM9QfIb"
      },
      "source": [
        "import pandas as pd\n",
        "from scipy.stats import ttest_ind\n",
        "from numpy.random import seed\n",
        "from numpy.random import randn\n",
        "import scipy.stats as stats\n",
        "from scipy.stats import shapiro\n",
        "from matplotlib import pyplot"
      ],
      "execution_count": 20,
      "outputs": []
    },
    {
      "cell_type": "markdown",
      "metadata": {
        "id": "ytx_w5SOTSxJ"
      },
      "source": [
        "## Add data frame"
      ]
    },
    {
      "cell_type": "code",
      "metadata": {
        "id": "6VN5LoHkQxdc"
      },
      "source": [
        "diabetes = pd.read_csv('https://raw.githubusercontent.com/hantswilliams/AHI_DataSci_507/main/Datasets/Diabetes/DB1_Diabetes/diabetic_data.csv')"
      ],
      "execution_count": 39,
      "outputs": []
    },
    {
      "cell_type": "markdown",
      "metadata": {
        "id": "NeNfbQxdYimF"
      },
      "source": [
        "## variables in data frame"
      ]
    },
    {
      "cell_type": "code",
      "metadata": {
        "colab": {
          "base_uri": "https://localhost:8080/"
        },
        "id": "_yhVSEGuQ1Ga",
        "outputId": "2c89d717-5725-4d44-cb8f-9b3edac60af7"
      },
      "source": [
        "list(diabetes)"
      ],
      "execution_count": 29,
      "outputs": [
        {
          "output_type": "execute_result",
          "data": {
            "text/plain": [
              "['encounter_id',\n",
              " 'patient_nbr',\n",
              " 'race',\n",
              " 'gender',\n",
              " 'age',\n",
              " 'weight',\n",
              " 'admission_type_id',\n",
              " 'discharge_disposition_id',\n",
              " 'admission_source_id',\n",
              " 'time_in_hospital',\n",
              " 'payer_code',\n",
              " 'medical_specialty',\n",
              " 'num_lab_procedures',\n",
              " 'num_procedures',\n",
              " 'num_medications',\n",
              " 'number_outpatient',\n",
              " 'number_emergency',\n",
              " 'number_inpatient',\n",
              " 'diag_1',\n",
              " 'diag_2',\n",
              " 'diag_3',\n",
              " 'number_diagnoses',\n",
              " 'max_glu_serum',\n",
              " 'A1Cresult',\n",
              " 'metformin',\n",
              " 'repaglinide',\n",
              " 'nateglinide',\n",
              " 'chlorpropamide',\n",
              " 'glimepiride',\n",
              " 'acetohexamide',\n",
              " 'glipizide',\n",
              " 'glyburide',\n",
              " 'tolbutamide',\n",
              " 'pioglitazone',\n",
              " 'rosiglitazone',\n",
              " 'acarbose',\n",
              " 'miglitol',\n",
              " 'troglitazone',\n",
              " 'tolazamide',\n",
              " 'examide',\n",
              " 'citoglipton',\n",
              " 'insulin',\n",
              " 'glyburide-metformin',\n",
              " 'glipizide-metformin',\n",
              " 'glimepiride-pioglitazone',\n",
              " 'metformin-rosiglitazone',\n",
              " 'metformin-pioglitazone',\n",
              " 'change',\n",
              " 'diabetesMed',\n",
              " 'readmitted']"
            ]
          },
          "metadata": {},
          "execution_count": 29
        }
      ]
    },
    {
      "cell_type": "markdown",
      "metadata": {
        "id": "WR3eOV4pTfep"
      },
      "source": [
        "## T-TESTS\n",
        "## Question 1: is there a difference between sex (M:F) and the number of days in hospital?"
      ]
    },
    {
      "cell_type": "code",
      "metadata": {
        "id": "4r_TAroMQ5BE"
      },
      "source": [
        "Female = diabetes[diabetes['gender'] == 'Female']\n",
        "Male = diabetes[diabetes['gender'] == 'Male']"
      ],
      "execution_count": 40,
      "outputs": []
    },
    {
      "cell_type": "code",
      "metadata": {
        "colab": {
          "base_uri": "https://localhost:8080/"
        },
        "id": "m3Qit00NRBmj",
        "outputId": "d1fd0e36-96c6-4f5d-b932-b8a4d57db6a8"
      },
      "source": [
        "ttest_ind(Female['time_in_hospital'], Male['time_in_hospital'])"
      ],
      "execution_count": 41,
      "outputs": [
        {
          "output_type": "execute_result",
          "data": {
            "text/plain": [
              "Ttest_indResult(statistic=9.542637042242887, pvalue=1.4217299655114968e-21)"
            ]
          },
          "metadata": {},
          "execution_count": 41
        }
      ]
    },
    {
      "cell_type": "markdown",
      "metadata": {
        "id": "MXBVsxgdTsvN"
      },
      "source": [
        "##Results:\n",
        "##statistic=9.542637042242887\n",
        "##pvalue=1.4217299655114968e-21)\n",
        "## the p value is <.05 this indicates there is a significant difference between the two groups, between females and males and number of days each gender spent in hospital"
      ]
    },
    {
      "cell_type": "markdown",
      "metadata": {
        "id": "o6gyKtn8T2A8"
      },
      "source": [
        "##Question 2: is there a difference between RACE (Caucasian and African American) and the number of days in hospital?"
      ]
    },
    {
      "cell_type": "code",
      "metadata": {
        "id": "Do2firg4RFb2"
      },
      "source": [
        "Caucasian = diabetes[diabetes['race'] == 'Caucasian'] \n",
        "African_American = diabetes[diabetes['race'] == 'AfricanAmerican']"
      ],
      "execution_count": 31,
      "outputs": []
    },
    {
      "cell_type": "code",
      "metadata": {
        "colab": {
          "base_uri": "https://localhost:8080/"
        },
        "id": "bZgGhdP4RI7I",
        "outputId": "a29337ce-72e5-45a4-f44e-67b81e1ab5e2"
      },
      "source": [
        "ttest_ind(Caucasian['time_in_hospital'], African_American ['time_in_hospital'])"
      ],
      "execution_count": 33,
      "outputs": [
        {
          "output_type": "execute_result",
          "data": {
            "text/plain": [
              "Ttest_indResult(statistic=-5.0610017032095325, pvalue=4.178330085585203e-07)"
            ]
          },
          "metadata": {},
          "execution_count": 33
        }
      ]
    },
    {
      "cell_type": "markdown",
      "metadata": {
        "id": "wO5uDDF_T8H3"
      },
      "source": [
        "##Resulst:\n",
        "##statistic=-5.0610017032095325 \n",
        "##pvalue=4.178330085585203e-07\n",
        "## the p value is <.05 which indicates there is a significant difference between the two groups, race ( caucasian and african american) and the number of days in the hospital"
      ]
    },
    {
      "cell_type": "markdown",
      "metadata": {
        "id": "eem5pFyuUBrM"
      },
      "source": [
        "##Question 3:is there a difference between RACE (Asian and African American) and the number of lab procedures performed?"
      ]
    },
    {
      "cell_type": "code",
      "metadata": {
        "id": "Cef2oXz9RNAM"
      },
      "source": [
        "Asian = diabetes[diabetes['race'] == 'Asian']\n",
        "African_American = diabetes[diabetes['race'] == 'AfricanAmerican']"
      ],
      "execution_count": 45,
      "outputs": []
    },
    {
      "cell_type": "code",
      "metadata": {
        "colab": {
          "base_uri": "https://localhost:8080/"
        },
        "id": "5Z19S-vNRaA7",
        "outputId": "2f937b1c-a4b9-4072-96e1-077b78eb5668"
      },
      "source": [
        "ttest_ind(Asian['num_lab_procedures'], African_American['num_lab_procedures'])"
      ],
      "execution_count": 46,
      "outputs": [
        {
          "output_type": "execute_result",
          "data": {
            "text/plain": [
              "Ttest_indResult(statistic=-3.9788715315360292, pvalue=6.948907528800307e-05)"
            ]
          },
          "metadata": {},
          "execution_count": 46
        }
      ]
    },
    {
      "cell_type": "markdown",
      "metadata": {
        "id": "7WGv0ZZHUbHQ"
      },
      "source": [
        "##Results: \n",
        "##statistic=-3.9788715315360292\n",
        "##pvalue=6.948907528800307e-05\n",
        "## the p value is <.05 which indicates there is a significant difference between the two groups, race ( asian and african american) and number of days spent in the hospital\n"
      ]
    }
  ]
}